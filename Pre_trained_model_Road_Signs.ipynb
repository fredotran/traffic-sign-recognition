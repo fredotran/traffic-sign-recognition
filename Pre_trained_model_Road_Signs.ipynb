{
  "nbformat": 4,
  "nbformat_minor": 0,
  "metadata": {
    "colab": {
      "name": "Pre-trained_model_Road_Signs.ipynb",
      "private_outputs": true,
      "provenance": [],
      "collapsed_sections": [
        "o50qg4J4AF4a"
      ],
      "toc_visible": true
    },
    "kernelspec": {
      "name": "python3",
      "display_name": "Python 3"
    },
    "accelerator": "GPU"
  },
  "cells": [
    {
      "cell_type": "markdown",
      "metadata": {
        "id": "Y9ix-_ZL-Iaf"
      },
      "source": [
        "## Test the pre-trained imported model Road signs\r\n"
      ]
    },
    {
      "cell_type": "code",
      "metadata": {
        "id": "Zs-HiPUbLtQc"
      },
      "source": [
        "# useful libraries\r\n",
        "import pickle\r\n",
        "import numpy as np\r\n",
        "import matplotlib.pyplot as plt\r\n",
        "import pandas as pd\r\n",
        "\r\n",
        "import tensorflow as tf\r\n",
        "from tensorflow.keras import models, layers\r\n",
        "from tensorflow.keras.utils import to_categorical\r\n",
        "\r\n",
        "print('Tensorflow version :', tf.__version__)\r\n",
        "print(\"Num GPUs Available: \", len(tf.config.experimental.list_physical_devices('GPU')))\r\n",
        "\r\n",
        "%matplotlib inline"
      ],
      "execution_count": null,
      "outputs": []
    },
    {
      "cell_type": "markdown",
      "metadata": {
        "id": "o50qg4J4AF4a"
      },
      "source": [
        "### Preprocess the test set"
      ]
    },
    {
      "cell_type": "code",
      "metadata": {
        "id": "jbVs6uiS-STK"
      },
      "source": [
        "with open(\"test.p\", mode='rb') as testing_data:\r\n",
        "    test = pickle.load(testing_data)\r\n",
        "\r\n",
        "x_test, y_test = test['features'], test['labels']\r\n",
        "\r\n",
        "# convert to grayscale and normalization of the test data\r\n",
        "x_test_gray  = np.sum(x_test, axis=3, keepdims=True)/3\r\n",
        "x_test_gray -= np.mean(x_test_gray, axis=0)\r\n",
        "x_test_gray /= (np.std(x_test_gray, axis=0) + np.finfo('float32').eps)\r\n",
        "\r\n",
        "# check the shape of the test set\r\n",
        "x_test_gray.shape"
      ],
      "execution_count": null,
      "outputs": []
    },
    {
      "cell_type": "markdown",
      "metadata": {
        "id": "w8j86gjnAI5l"
      },
      "source": [
        "### Load the pre-trained model and get a summary of the architecture"
      ]
    },
    {
      "cell_type": "code",
      "metadata": {
        "id": "8qOKGN3JAAhM"
      },
      "source": [
        "# load the pre-trained model\r\n",
        "new_cnn_model = models.load_model('road_sign_model_31_12_6.h5')\r\n",
        "\r\n",
        "# show architecture\r\n",
        "new_cnn_model.summary()"
      ],
      "execution_count": null,
      "outputs": []
    },
    {
      "cell_type": "markdown",
      "metadata": {
        "id": "ZtoZ9bp4AMv9"
      },
      "source": [
        "### Check the model accuracy viability using the test set"
      ]
    },
    {
      "cell_type": "code",
      "metadata": {
        "id": "ESwI_4POAMkR"
      },
      "source": [
        "# check the accuracy of the loaded model\r\n",
        "from sklearn.utils import shuffle\r\n",
        "x_test_gray, y_test = shuffle(x_test_gray, y_test)\r\n",
        "\r\n",
        "loss, acc = new_cnn_model.evaluate(x_test_gray, y_test, verbose=2)\r\n",
        "print('Restored model, accuracy: {:5.2f}%'.format(100 * acc))"
      ],
      "execution_count": null,
      "outputs": []
    },
    {
      "cell_type": "markdown",
      "metadata": {
        "id": "FHOuVSoPmlJW"
      },
      "source": [
        "## Evaluate the pre-trained model on test set and internet data\r\n",
        "\r\n",
        "In this section we'll test our model performance on internet data and test sets."
      ]
    },
    {
      "cell_type": "markdown",
      "metadata": {
        "id": "CKkBL9n8_ncC"
      },
      "source": [
        "### Evaluating the model on the test set"
      ]
    },
    {
      "cell_type": "code",
      "metadata": {
        "id": "mXJmXiXAJiBe"
      },
      "source": [
        "#Printing the classification report\r\n",
        "from sklearn.metrics import classification_report\r\n",
        "#predictions = new_cnn_model.predict_classes(x_test_gray)\r\n",
        "predictions = np.argmax(new_cnn_model.predict(x_test_gray), axis=-1)\r\n",
        "print(classification_report(y_test,predictions))"
      ],
      "execution_count": null,
      "outputs": []
    },
    {
      "cell_type": "code",
      "metadata": {
        "id": "A6S8eEeCY_Tx"
      },
      "source": [
        "# show predictions on test set\r\n",
        "img_batch = 90\r\n",
        "for i in range(0,12):\r\n",
        "    plt.subplot(4,3,i+1)\r\n",
        "    plt.imshow(x_test_gray[i+j].squeeze(), cmap='gray', interpolation='none')\r\n",
        "    plt.title(\"Predicted {}, Class {}\".format(predictions[i+img_batch], y_test[i+img_batch]))\r\n",
        "    plt.tight_layout()"
      ],
      "execution_count": null,
      "outputs": []
    },
    {
      "cell_type": "markdown",
      "metadata": {
        "id": "c6DlyqjWXA_L"
      },
      "source": [
        "### Evaluating the model on real world data\r\n",
        "\r\n",
        "We'll test our model with some real world/internet **data**"
      ]
    },
    {
      "cell_type": "code",
      "metadata": {
        "id": "OV-sxSgWH_oI"
      },
      "source": [
        "from PIL import Image\r\n",
        "from importlib import reload\r\n",
        "import utils; reload(utils)\r\n",
        "from utils import *\r\n",
        "\r\n",
        "import os\r\n",
        "\r\n",
        "# this function will help up to load images and preprocess them before inputting them into our model for testing (they need to be in jpg or png)\r\n",
        "\r\n",
        "def get_imgs_from_folder(path, size=(32, 32), grayscale=False):\r\n",
        "    \"\"\"  \r\n",
        "    Returns a list of images from a folder as a numpy array\r\n",
        "    \"\"\"\r\n",
        "    img_list = [os.path.join(path,f) for f in os.listdir(path) if f.endswith(\".jpg\") or f.endswith(\".png\")]\r\n",
        "    imgs = None \r\n",
        "    if grayscale:\r\n",
        "        imgs = np.empty([len(img_list), size[0], size[1]], dtype=np.uint8) \r\n",
        "    else:\r\n",
        "        imgs = np.empty([len(img_list), size[0], size[1], 3], dtype=np.uint8) \r\n",
        "\r\n",
        "    for i, img_path in enumerate(img_list):\r\n",
        "        img = Image.open(img_path).convert('RGB')\r\n",
        "        img = img.resize(size)\r\n",
        "        im = np.array(to_grayscale(img)) if grayscale else np.array(img)\r\n",
        "        imgs[i] = im\r\n",
        "\r\n",
        "    return imgs"
      ],
      "execution_count": null,
      "outputs": []
    },
    {
      "cell_type": "code",
      "metadata": {
        "id": "oS5Vg5PhH_lu"
      },
      "source": [
        "# definition of the internet test directory\r\n",
        "new_imgs_dir = \"./real_data/\"\r\n",
        "\r\n",
        "# get all the images in the folder and apply the preprocessing to the internet images\r\n",
        "new_imgs = get_imgs_from_folder(new_imgs_dir)\r\n",
        "\r\n",
        "# convert the images to grayscale and check the grayscale images shape\r\n",
        "new_imgs_grayscale = np.asarray(list(map(lambda img: to_grayscale(img), new_imgs)))\r\n",
        "new_imgs_grayscale.shape"
      ],
      "execution_count": null,
      "outputs": []
    },
    {
      "cell_type": "markdown",
      "metadata": {
        "id": "-0xuCK1k_LGI"
      },
      "source": [
        "#### Create new labels corresponding to our imported images"
      ]
    },
    {
      "cell_type": "code",
      "metadata": {
        "id": "5aqlvxN_TmNz"
      },
      "source": [
        "# Let's also create the labels for our images\r\n",
        "new_img_lbs = np.array([12,35,9,25,15,14,17,12,29,26,2,12,14,1,16,9,14,8,18,32,11])\r\n",
        "\r\n",
        "# check the grayscale images after converting RGB to grayscale\r\n",
        "show_image_list(new_imgs_grayscale, new_img_lbs, \"New Traffic Sign Images (Grayscale)\", cols=len(new_imgs_grayscale), \r\n",
        "                fig_size=(15,15), show_ticks=False)"
      ],
      "execution_count": null,
      "outputs": []
    },
    {
      "cell_type": "code",
      "metadata": {
        "id": "XJopjPGiU-9S"
      },
      "source": [
        "# Convert to a format Tensorflow understands\r\n",
        "new_imgs_grayscale = np.reshape(new_imgs_grayscale, (new_imgs_grayscale.shape[0], 32, 32, 1))\r\n",
        "\r\n",
        "# check new_imgs_grayscale shape\r\n",
        "new_imgs_grayscale.shape"
      ],
      "execution_count": null,
      "outputs": []
    },
    {
      "cell_type": "code",
      "metadata": {
        "id": "XJ786FrTT4dq"
      },
      "source": [
        "# check the predictions\r\n",
        "predictions = np.argmax(new_cnn_model.predict(new_imgs_grayscale), axis=-1)\r\n",
        "predictions"
      ],
      "execution_count": null,
      "outputs": []
    },
    {
      "cell_type": "markdown",
      "metadata": {
        "id": "FrACX6Vf-OIz"
      },
      "source": [
        "#### Show some predictions "
      ]
    },
    {
      "cell_type": "code",
      "metadata": {
        "id": "nX1VPQcK9G0b"
      },
      "source": [
        "# by defaults\r\n",
        "number_img = len(new_imgs)\r\n",
        "start_number_img = 0\r\n",
        "end_number_img = len(new_imgs)/2\r\n",
        "\r\n",
        "# show the first seventh predictions\r\n",
        "for i in range(start_number_img,round(end_number_img)):\r\n",
        "  plt.subplot(4,3,i+1)\r\n",
        "  plt.imshow(new_imgs_grayscale[i].squeeze(), cmap='gray', interpolation='none')\r\n",
        "  plt.title(\"Predicted : {}, \\n Class : {}\".format(predictions[i], new_img_lbs[i]))\r\n",
        "  plt.tight_layout()"
      ],
      "execution_count": null,
      "outputs": []
    },
    {
      "cell_type": "code",
      "metadata": {
        "id": "K98AJ6kKsqma"
      },
      "source": [
        "# check the prediction accuracy by summing all the right predictions and divided by the total number of predictions\r\n",
        "prediction_accuracy = (np.sum(new_img_lbs == predictions) / len(predictions)) * 100\r\n",
        "print(\"Predictional accuracy on new images: {:5.2f}%\".format(prediction_accuracy))"
      ],
      "execution_count": null,
      "outputs": []
    },
    {
      "cell_type": "code",
      "metadata": {
        "id": "xhtf2nxIO3Km"
      },
      "source": [
        ""
      ],
      "execution_count": null,
      "outputs": []
    }
  ]
}