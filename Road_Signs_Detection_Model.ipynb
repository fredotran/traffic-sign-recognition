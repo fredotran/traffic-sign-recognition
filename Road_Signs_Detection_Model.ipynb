{
  "nbformat": 4,
  "nbformat_minor": 0,
  "metadata": {
    "kernelspec": {
      "display_name": "Python 3",
      "language": "python",
      "name": "python3"
    },
    "language_info": {
      "codemirror_mode": {
        "name": "ipython",
        "version": 3
      },
      "file_extension": ".py",
      "mimetype": "text/x-python",
      "name": "python",
      "nbconvert_exporter": "python",
      "pygments_lexer": "ipython3",
      "version": "3.8.5"
    },
    "colab": {
      "name": "Road_Signs_Detection_Model.ipynb",
      "provenance": [],
      "collapsed_sections": []
    },
    "accelerator": "GPU"
  },
  "cells": [
    {
      "cell_type": "markdown",
      "metadata": {
        "id": "7PRdbSAx4yFr"
      },
      "source": [
        "# Road Sign detection model"
      ]
    },
    {
      "cell_type": "code",
      "metadata": {
        "colab": {
          "base_uri": "https://localhost:8080/"
        },
        "id": "JtHLQ8sS4yFt",
        "outputId": "25fdb7bb-8ba7-4851-c3e3-98149997d927"
      },
      "source": [
        "# useful libraries\n",
        "import pickle\n",
        "import numpy as np\n",
        "import matplotlib.pyplot as plt\n",
        "import pandas as pd\n",
        "\n",
        "import tensorflow as tf\n",
        "from tensorflow.keras import models, layers\n",
        "from tensorflow.keras.utils import to_categorical\n",
        "\n",
        "print('Tensorflow version :', tf.__version__)\n",
        "print(\"Num GPUs Available: \", len(tf.config.experimental.list_physical_devices('GPU')))\n",
        "\n",
        "%matplotlib inline"
      ],
      "execution_count": 149,
      "outputs": [
        {
          "output_type": "stream",
          "text": [
            "Tensorflow version : 2.4.0\n",
            "Num GPUs Available:  1\n"
          ],
          "name": "stdout"
        }
      ]
    },
    {
      "cell_type": "markdown",
      "metadata": {
        "id": "ShVFn7TM4yFv"
      },
      "source": [
        "### Load the data and check shapes (summary of the data set)"
      ]
    },
    {
      "cell_type": "code",
      "metadata": {
        "id": "C0gOe0GI4yFw"
      },
      "source": [
        "# load data\n",
        "with open(\"train.p\", mode='rb') as training_data:\n",
        "    train = pickle.load(training_data)\n",
        "with open(\"valid.p\", mode='rb') as validation_data:\n",
        "    valid = pickle.load(validation_data)\n",
        "with open(\"test.p\", mode='rb') as testing_data:\n",
        "    test = pickle.load(testing_data)\n",
        "  \n",
        "# label and features\n",
        "x_train, y_train = train['features'], train['labels']\n",
        "x_validation, y_validation = valid['features'], valid['labels']\n",
        "x_test, y_test = test['features'], test['labels']"
      ],
      "execution_count": 150,
      "outputs": []
    },
    {
      "cell_type": "code",
      "metadata": {
        "colab": {
          "base_uri": "https://localhost:8080/"
        },
        "id": "-f8I_S1w4yFx",
        "outputId": "395d5f34-6aab-4230-a585-bde13b086159"
      },
      "source": [
        "# check the shape of the data\n",
        "x_shape = x_train.shape\n",
        "y_shape = y_train.shape\n",
        "x_val_shape = x_validation.shape\n",
        "y_val_shape = y_validation.shape\n",
        "\n",
        "print(\"Features shape :\", x_shape)\n",
        "print(\"Validation features shape :\", x_val_shape)\n",
        "print(\"Labels shape :\", y_shape)\n",
        "print(\"Validation labels shape :\", y_val_shape)"
      ],
      "execution_count": 151,
      "outputs": [
        {
          "output_type": "stream",
          "text": [
            "Features shape : (34799, 32, 32, 3)\n",
            "Validation features shape : (4410, 32, 32, 3)\n",
            "Labels shape : (34799,)\n",
            "Validation labels shape : (4410,)\n"
          ],
          "name": "stdout"
        }
      ]
    },
    {
      "cell_type": "code",
      "metadata": {
        "colab": {
          "base_uri": "https://localhost:8080/"
        },
        "id": "SrljNg0Ws4jV",
        "outputId": "85af9f07-5709-4128-c6d6-cac088d0069b"
      },
      "source": [
        "# Number of training examples\r\n",
        "num_train = x_train.shape[0]\r\n",
        "\r\n",
        "# Number of validation examples\r\n",
        "num_validation = x_validation.shape[0]\r\n",
        "\r\n",
        "# Number of testing examples.\r\n",
        "num_test = x_test.shape[0]\r\n",
        "\r\n",
        "# What's the shape of an traffic sign image?\r\n",
        "image_shape = x_train.shape[1:]\r\n",
        "\r\n",
        "# How many unique classes/labels there are in the dataset.\r\n",
        "n_classes = len(set(y_train))\r\n",
        "\r\n",
        "print(\"Number of training examples =\", num_train)\r\n",
        "print(\"Number of validation examples =\", num_validation)\r\n",
        "print(\"Number of testing examples =\", num_test)\r\n",
        "print(\"Image data shape =\", image_shape)\r\n",
        "print(\"Number of classes =\", n_classes)"
      ],
      "execution_count": 152,
      "outputs": [
        {
          "output_type": "stream",
          "text": [
            "Number of training examples = 34799\n",
            "Number of validation examples = 4410\n",
            "Number of testing examples = 12630\n",
            "Image data shape = (32, 32, 3)\n",
            "Number of classes = 43\n"
          ],
          "name": "stdout"
        }
      ]
    },
    {
      "cell_type": "markdown",
      "metadata": {
        "id": "XqUYebxYtLzo"
      },
      "source": [
        "### Group the image by class labels.\r\n",
        "\r\n",
        "We will group the images by label."
      ]
    },
    {
      "cell_type": "code",
      "metadata": {
        "id": "4vTfv48X4yFy"
      },
      "source": [
        "from sklearn.utils import shuffle\n",
        "x_train, y_train = shuffle(x_train, y_train)\n",
        "x_validation, y_validation = shuffle(x_validation, y_validation)\n",
        "x_test, y_test = shuffle(x_test, y_test)"
      ],
      "execution_count": 153,
      "outputs": []
    },
    {
      "cell_type": "markdown",
      "metadata": {
        "id": "XpejvBoO4yFy"
      },
      "source": [
        "### Convert to grayscale and normalization of the data\n"
      ]
    },
    {
      "cell_type": "code",
      "metadata": {
        "scrolled": true,
        "id": "uKAHzwJe4yFz"
      },
      "source": [
        "# convert color images to grayscale using averaging method (np.sum)\n",
        "x_train_gray = np.sum(x_train, axis=3, keepdims=True)/3\n",
        "x_test_gray  = np.sum(x_test, axis=3, keepdims=True)/3\n",
        "x_validation_gray  = np.sum(x_validation, axis=3, keepdims=True)/3\n",
        "\n",
        "# normalization of the data\n",
        "x_train_gray -= np.mean(x_train_gray, axis=0)\n",
        "x_test_gray -= np.mean(x_test_gray, axis=0)\n",
        "x_validation_gray -= np.mean(x_train_gray, axis=0)\n",
        "\n",
        "x_train_gray /= (np.std(x_train_gray, axis=0) + np.finfo('float32').eps)\n",
        "x_test_gray /= (np.std(x_test_gray, axis=0) + np.finfo('float32').eps)\n",
        "x_validation_gray /= (np.std(x_validation_gray, axis=0) + np.finfo('float32').eps)\n",
        "\n",
        "# one-hot encoding classes\n",
        "#y_train = to_categorical(y_train)\n",
        "#y_test = to_categorical(y_test)\n",
        "#y_validation = to_categorical(y_validation)"
      ],
      "execution_count": 154,
      "outputs": []
    },
    {
      "cell_type": "markdown",
      "metadata": {
        "id": "8WoIZ1ar2To4"
      },
      "source": [
        "### Display the images"
      ]
    },
    {
      "cell_type": "code",
      "metadata": {
        "colab": {
          "base_uri": "https://localhost:8080/",
          "height": 533
        },
        "id": "HAqhcCyD2XyL",
        "outputId": "4af2d736-31e2-4e29-a313-e9b0c976910e"
      },
      "source": [
        "i = 610\r\n",
        "plt.imshow(x_train_gray[i].squeeze(), cmap='gray')\r\n",
        "plt.figure()\r\n",
        "plt.imshow(x_train[i])"
      ],
      "execution_count": 155,
      "outputs": [
        {
          "output_type": "execute_result",
          "data": {
            "text/plain": [
              "<matplotlib.image.AxesImage at 0x7fc796478860>"
            ]
          },
          "metadata": {
            "tags": []
          },
          "execution_count": 155
        },
        {
          "output_type": "display_data",
          "data": {
            "image/png": "[encoded data removed]",
            "text/plain": [
              "<Figure size 432x288 with 1 Axes>"
            ]
          },
          "metadata": {
            "tags": [],
            "needs_background": "light"
          }
        },
        {
          "output_type": "display_data",
          "data": {
            "image/png": "[encoded data removed]",
            "text/plain": [
              "<Figure size 432x288 with 1 Axes>"
            ]
          },
          "metadata": {
            "tags": [],
            "needs_background": "light"
          }
        }
      ]
    },
    {
      "cell_type": "markdown",
      "metadata": {
        "id": "WcyA5AS34yF0"
      },
      "source": [
        "### Model architecture\n",
        "\n",
        "After normalization of the data, we've one-hot encoded the 43 different classes of road signs. Now we'll define a model architecture to train our network and to prevent overfitting."
      ]
    },
    {
      "cell_type": "code",
      "metadata": {
        "id": "EUe2zJCz4yF1"
      },
      "source": [
        "from tensorflow.keras import regularizers\n",
        "\n",
        "# Model architecture\n",
        "def cnn_model_architecture(kernel_size, input_shape):\n",
        "            \n",
        "    cnn_model = tf.keras.Sequential()\n",
        "           \n",
        "    cnn_model.add(layers.Conv2D(32, kernel_size, activation = 'relu', input_shape=input_shape)) \n",
        "    cnn_model.add(layers.Conv2D(64, kernel_size, activation='relu', kernel_regularizer=regularizers.l2(0.001), input_shape=input_shape))      \n",
        "    cnn_model.add(layers.MaxPooling2D(pool_size=(2,2))) \n",
        "    cnn_model.add(layers.Dropout(0.25))\n",
        "    cnn_model.add(layers.Conv2D(128, kernel_size, activation='relu', kernel_regularizer=regularizers.l2(0.001), input_shape=input_shape)) \n",
        "    cnn_model.add(layers.MaxPooling2D(pool_size=(2,2)))        \n",
        "    cnn_model.add(layers.Dropout(0.5))\n",
        "\n",
        "    cnn_model.add(layers.Flatten())   \n",
        "    cnn_model.add(layers.Dropout(0.25)) \n",
        "    cnn_model.add(layers.Dense(256, activation='relu', kernel_regularizer=regularizers.l2(0.001))) \n",
        "    cnn_model.add(layers.Dropout(0.5))   \n",
        "    cnn_model.add(layers.Dense(n_classes, activation='softmax'))\n",
        "    \n",
        "    return cnn_model   "
      ],
      "execution_count": 156,
      "outputs": []
    },
    {
      "cell_type": "code",
      "metadata": {
        "id": "8QE9k7lD4yF2"
      },
      "source": [
        "# Compiling the model \n",
        "def compile_model():\n",
        "    cnn_model_architecture(kernel_size, input_shape)    \n",
        "    cnn_model.compile(optimizer='adam', \n",
        "                      loss='sparse_categorical_crossentropy', \n",
        "                      metrics=['acc'])\n",
        "    return cnn_model"
      ],
      "execution_count": 157,
      "outputs": []
    },
    {
      "cell_type": "code",
      "metadata": {
        "id": "K7iiFNhQGzU-"
      },
      "source": [
        "# using callbacks\r\n",
        "class myCallback(tf.keras.callbacks.Callback):\r\n",
        "  def on_epoch_end(self, epoch, logs={}):\r\n",
        "    if(logs.get('val_loss')<0.45):\r\n",
        "      print(\"\\nReached 0.45 validation loss so cancelling training!\")\r\n",
        "      self.model.stop_training = True\r\n",
        "\r\n",
        "callbacks = myCallback()"
      ],
      "execution_count": 158,
      "outputs": []
    },
    {
      "cell_type": "markdown",
      "metadata": {
        "id": "CKdITn5_4yF4"
      },
      "source": [
        "### Compile the model"
      ]
    },
    {
      "cell_type": "code",
      "metadata": {
        "id": "8ph3V8F_4yF4"
      },
      "source": [
        "kernel_size = (3,3)\n",
        "input_shape = x_train_gray[1].shape\n",
        "batch_size = 348\n",
        "epochs = 70\n",
        "\n",
        "cnn_model = cnn_model_architecture(kernel_size, input_shape)\n",
        "cnn_model = compile_model()"
      ],
      "execution_count": 159,
      "outputs": []
    },
    {
      "cell_type": "markdown",
      "metadata": {
        "id": "TzGGI2jF4yF4"
      },
      "source": [
        "### Train and evaluate the model"
      ]
    },
    {
      "cell_type": "code",
      "metadata": {
        "id": "JlnCsB4x4yF4"
      },
      "source": [
        "def train_model(model, x_train, y_train, x_validation, y_validation, batch_size, epochs, callbacks):   \n",
        "\n",
        "    # train the model    \n",
        "    model_history = model.fit(x_train,\n",
        "                        y_train,\n",
        "                        batch_size= batch_size,\n",
        "                        epochs = epochs, \n",
        "                        steps_per_epoch = len(x_train) / batch_size,\n",
        "                        verbose=1, \n",
        "                        validation_data= (x_validation, y_validation),\n",
        "                        callbacks=[callbacks])\n",
        "    \n",
        "    return model_history\n"
      ],
      "execution_count": 160,
      "outputs": []
    },
    {
      "cell_type": "code",
      "metadata": {
        "colab": {
          "base_uri": "https://localhost:8080/"
        },
        "id": "zQu9FkbL4yF4",
        "outputId": "e1ec777b-4782-4c8a-fa8e-dfd3b8398d1e"
      },
      "source": [
        "# train and evaluate the model\n",
        "history = train_model(cnn_model,\n",
        "                      x_train_gray, \n",
        "                      y_train, \n",
        "                      x_validation_gray, \n",
        "                      y_validation,\n",
        "                      batch_size,\n",
        "                      epochs,\n",
        "                      callbacks)    "
      ],
      "execution_count": 161,
      "outputs": [
        {
          "output_type": "stream",
          "text": [
            "Epoch 1/70\n",
            " 5/99 [>.............................] - ETA: 3s - loss: 4.3045 - acc: 0.0442WARNING:tensorflow:Callback method `on_train_batch_end` is slow compared to the batch time (batch time: 0.0117s vs `on_train_batch_end` time: 0.0222s). Check your callbacks.\n",
            "99/99 [==============================] - 3s 28ms/step - loss: 3.5790 - acc: 0.1961 - val_loss: 1.5367 - val_acc: 0.7639\n",
            "Epoch 2/70\n",
            "99/99 [==============================] - 3s 26ms/step - loss: 1.1437 - acc: 0.7848 - val_loss: 1.0153 - val_acc: 0.8841\n",
            "Epoch 3/70\n",
            "99/99 [==============================] - 3s 26ms/step - loss: 0.7832 - acc: 0.8972 - val_loss: 0.8329 - val_acc: 0.9166\n",
            "Epoch 4/70\n",
            "99/99 [==============================] - 3s 26ms/step - loss: 0.6745 - acc: 0.9252 - val_loss: 0.7837 - val_acc: 0.9234\n",
            "Epoch 5/70\n",
            "99/99 [==============================] - 3s 26ms/step - loss: 0.5885 - acc: 0.9445 - val_loss: 0.7076 - val_acc: 0.9317\n",
            "Epoch 6/70\n",
            "99/99 [==============================] - 3s 26ms/step - loss: 0.5568 - acc: 0.9470 - val_loss: 0.6967 - val_acc: 0.9293\n",
            "Epoch 7/70\n",
            "99/99 [==============================] - 3s 26ms/step - loss: 0.5157 - acc: 0.9544 - val_loss: 0.6794 - val_acc: 0.9286\n",
            "Epoch 8/70\n",
            "99/99 [==============================] - 3s 26ms/step - loss: 0.4861 - acc: 0.9585 - val_loss: 0.6168 - val_acc: 0.9431\n",
            "Epoch 9/70\n",
            "99/99 [==============================] - 3s 26ms/step - loss: 0.4712 - acc: 0.9584 - val_loss: 0.5806 - val_acc: 0.9431\n",
            "Epoch 10/70\n",
            "99/99 [==============================] - 3s 26ms/step - loss: 0.4549 - acc: 0.9615 - val_loss: 0.5883 - val_acc: 0.9429\n",
            "Epoch 11/70\n",
            "99/99 [==============================] - 3s 27ms/step - loss: 0.4411 - acc: 0.9627 - val_loss: 0.5631 - val_acc: 0.9379\n",
            "Epoch 12/70\n",
            "99/99 [==============================] - 3s 26ms/step - loss: 0.4379 - acc: 0.9623 - val_loss: 0.5436 - val_acc: 0.9458\n",
            "Epoch 13/70\n",
            "99/99 [==============================] - 3s 26ms/step - loss: 0.4255 - acc: 0.9648 - val_loss: 0.5586 - val_acc: 0.9397\n",
            "Epoch 14/70\n",
            "99/99 [==============================] - 3s 26ms/step - loss: 0.4180 - acc: 0.9653 - val_loss: 0.5376 - val_acc: 0.9415\n",
            "Epoch 15/70\n",
            "99/99 [==============================] - 3s 26ms/step - loss: 0.4067 - acc: 0.9670 - val_loss: 0.5163 - val_acc: 0.9435\n",
            "Epoch 16/70\n",
            "99/99 [==============================] - 3s 26ms/step - loss: 0.4045 - acc: 0.9663 - val_loss: 0.4984 - val_acc: 0.9512\n",
            "Epoch 17/70\n",
            "99/99 [==============================] - 3s 26ms/step - loss: 0.3999 - acc: 0.9673 - val_loss: 0.4919 - val_acc: 0.9535\n",
            "Epoch 18/70\n",
            "99/99 [==============================] - 3s 26ms/step - loss: 0.3929 - acc: 0.9679 - val_loss: 0.5010 - val_acc: 0.9449\n",
            "Epoch 19/70\n",
            "99/99 [==============================] - 3s 26ms/step - loss: 0.3910 - acc: 0.9686 - val_loss: 0.4869 - val_acc: 0.9599\n",
            "Epoch 20/70\n",
            "99/99 [==============================] - 3s 26ms/step - loss: 0.3763 - acc: 0.9726 - val_loss: 0.4896 - val_acc: 0.9501\n",
            "Epoch 21/70\n",
            "99/99 [==============================] - 3s 26ms/step - loss: 0.3834 - acc: 0.9695 - val_loss: 0.4869 - val_acc: 0.9449\n",
            "Epoch 22/70\n",
            "99/99 [==============================] - 3s 26ms/step - loss: 0.3777 - acc: 0.9713 - val_loss: 0.4810 - val_acc: 0.9435\n",
            "Epoch 23/70\n",
            "99/99 [==============================] - 3s 26ms/step - loss: 0.3710 - acc: 0.9721 - val_loss: 0.4945 - val_acc: 0.9463\n",
            "Epoch 24/70\n",
            "99/99 [==============================] - 3s 26ms/step - loss: 0.3703 - acc: 0.9712 - val_loss: 0.4697 - val_acc: 0.9494\n",
            "Epoch 25/70\n",
            "99/99 [==============================] - 3s 26ms/step - loss: 0.3613 - acc: 0.9741 - val_loss: 0.4572 - val_acc: 0.9506\n",
            "Epoch 26/70\n",
            "99/99 [==============================] - 3s 26ms/step - loss: 0.3721 - acc: 0.9698 - val_loss: 0.4866 - val_acc: 0.9399\n",
            "Epoch 27/70\n",
            "99/99 [==============================] - 3s 26ms/step - loss: 0.3652 - acc: 0.9722 - val_loss: 0.4512 - val_acc: 0.9567\n",
            "Epoch 28/70\n",
            "99/99 [==============================] - 3s 26ms/step - loss: 0.3576 - acc: 0.9741 - val_loss: 0.4578 - val_acc: 0.9497\n",
            "Epoch 29/70\n",
            "99/99 [==============================] - 3s 26ms/step - loss: 0.3644 - acc: 0.9724 - val_loss: 0.4613 - val_acc: 0.9424\n",
            "Epoch 30/70\n",
            "99/99 [==============================] - 3s 26ms/step - loss: 0.3553 - acc: 0.9732 - val_loss: 0.4491 - val_acc: 0.9465\n",
            "\n",
            "Reached 0.45 validation loss so cancelling training!\n"
          ],
          "name": "stdout"
        }
      ]
    },
    {
      "cell_type": "code",
      "metadata": {
        "colab": {
          "base_uri": "https://localhost:8080/"
        },
        "id": "PnbvNazBelW8",
        "outputId": "e4c1b615-b761-411e-97e3-1e46749e7dcf"
      },
      "source": [
        "# evaluate the model\r\n",
        "score = cnn_model.evaluate(x_test_gray, y_test, verbose=0)\r\n",
        "print('\\nTest loss : {:.4f}'.format(score[0]))\r\n",
        "print('Test Accuracy : {:.4f}'.format(score[1]))"
      ],
      "execution_count": 162,
      "outputs": [
        {
          "output_type": "stream",
          "text": [
            "\n",
            "Test loss : 0.3919\n",
            "Test Accuracy : 0.9652\n"
          ],
          "name": "stdout"
        }
      ]
    },
    {
      "cell_type": "code",
      "metadata": {
        "colab": {
          "base_uri": "https://localhost:8080/",
          "height": 279
        },
        "id": "dRFIo88s4yF5",
        "outputId": "22f1d496-1417-4290-f031-c1ad321a8d0e"
      },
      "source": [
        "# plot loss _values\n",
        "history_dict = history.history\n",
        "\n",
        "loss_values = history_dict['loss']\n",
        "val_loss_values = history_dict['val_loss']\n",
        "epochs = range(1, len(loss_values)+ 1)\n",
        "line1 = plt.plot(epochs, val_loss_values, label = 'Validation Loss')\n",
        "line2 = plt.plot(epochs, loss_values, label= 'Training Loss')\n",
        "plt.setp(line1, linewidth=2.0, marker = '+', markersize=10.0)\n",
        "plt.setp(line2, linewidth=2.0, marker= '4', markersize=10.0)\n",
        "plt.xlabel('Epochs')\n",
        "plt.ylabel('Loss')\n",
        "plt.grid(True)\n",
        "plt.legend()\n",
        "plt.show()"
      ],
      "execution_count": 163,
      "outputs": [
        {
          "output_type": "display_data",
          "data": {
            "image/png": "[encoded data removed]",
            "text/plain": [
              "<Figure size 432x288 with 1 Axes>"
            ]
          },
          "metadata": {
            "tags": [],
            "needs_background": "light"
          }
        }
      ]
    },
    {
      "cell_type": "code",
      "metadata": {
        "scrolled": true,
        "colab": {
          "base_uri": "https://localhost:8080/",
          "height": 282
        },
        "id": "6lvWP5KO4yF5",
        "outputId": "dadfae36-29bd-4939-d794-50720935e024"
      },
      "source": [
        "# plot accuracy \n",
        "\n",
        "acc_values = history_dict['acc']\n",
        "val_acc_values = history_dict['val_acc']\n",
        "epochs = range(1, len(loss_values)+ 1)\n",
        "line1 = plt.plot(epochs, val_acc_values, label = 'Validation Accuracy')\n",
        "line2 = plt.plot(epochs, acc_values, label= 'Training Accuracy')\n",
        "plt.setp(line1, linewidth=2.0, marker = '+', markersize=10.0)\n",
        "plt.setp(line2, linewidth=2.0, marker= '4', markersize=10.0)\n",
        "plt.xlabel('Epochs')\n",
        "plt.ylabel('Accuracy')\n",
        "plt.grid(True)\n",
        "plt.legend()\n",
        "plt.show()"
      ],
      "execution_count": 164,
      "outputs": [
        {
          "output_type": "display_data",
          "data": {
            "image/png": "[encoded data removed]",
            "text/plain": [
              "<Figure size 432x288 with 1 Axes>"
            ]
          },
          "metadata": {
            "tags": [],
            "needs_background": "light"
          }
        }
      ]
    },
    {
      "cell_type": "code",
      "metadata": {
        "colab": {
          "base_uri": "https://localhost:8080/"
        },
        "id": "DyjBu0nZ-1I6",
        "outputId": "f2fac5e8-10fc-49b4-ea5d-fcbec21b9e03"
      },
      "source": [
        "#Printing the classification report\r\n",
        "from sklearn.metrics import classification_report\r\n",
        "predictions = cnn_model.predict_classes(x_test_gray)\r\n",
        "print(classification_report(y_test,predictions))"
      ],
      "execution_count": 165,
      "outputs": [
        {
          "output_type": "stream",
          "text": [
            "/usr/local/lib/python3.6/dist-packages/tensorflow/python/keras/engine/sequential.py:450: UserWarning: `model.predict_classes()` is deprecated and will be removed after 2021-01-01. Please use instead:* `np.argmax(model.predict(x), axis=-1)`,   if your model does multi-class classification   (e.g. if it uses a `softmax` last-layer activation).* `(model.predict(x) > 0.5).astype(\"int32\")`,   if your model does binary classification   (e.g. if it uses a `sigmoid` last-layer activation).\n",
            "  warnings.warn('`model.predict_classes()` is deprecated and '\n"
          ],
          "name": "stderr"
        },
        {
          "output_type": "stream",
          "text": [
            "              precision    recall  f1-score   support\n",
            "\n",
            "           0       1.00      0.98      0.99        60\n",
            "           1       0.98      0.98      0.98       720\n",
            "           2       0.96      0.99      0.98       750\n",
            "           3       0.97      0.94      0.95       450\n",
            "           4       0.99      0.98      0.99       660\n",
            "           5       0.93      0.95      0.94       630\n",
            "           6       1.00      0.83      0.91       150\n",
            "           7       0.96      0.92      0.94       450\n",
            "           8       0.92      0.98      0.95       450\n",
            "           9       0.96      1.00      0.98       480\n",
            "          10       0.99      1.00      0.99       660\n",
            "          11       0.93      1.00      0.96       420\n",
            "          12       0.94      0.98      0.96       690\n",
            "          13       0.99      1.00      0.99       720\n",
            "          14       1.00      0.99      1.00       270\n",
            "          15       0.98      1.00      0.99       210\n",
            "          16       1.00      0.99      0.99       150\n",
            "          17       0.99      0.97      0.98       360\n",
            "          18       0.95      0.90      0.93       390\n",
            "          19       1.00      0.95      0.97        60\n",
            "          20       0.86      0.98      0.92        90\n",
            "          21       0.98      0.69      0.81        90\n",
            "          22       0.90      0.97      0.94       120\n",
            "          23       0.85      0.94      0.90       150\n",
            "          24       0.99      0.86      0.92        90\n",
            "          25       0.99      0.96      0.97       480\n",
            "          26       0.95      0.87      0.91       180\n",
            "          27       0.72      0.97      0.83        60\n",
            "          28       1.00      0.99      1.00       150\n",
            "          29       0.99      0.99      0.99        90\n",
            "          30       1.00      0.75      0.86       150\n",
            "          31       0.94      0.99      0.97       270\n",
            "          32       0.97      1.00      0.98        60\n",
            "          33       1.00      0.99      0.99       210\n",
            "          34       1.00      0.99      1.00       120\n",
            "          35       1.00      0.99      0.99       390\n",
            "          36       0.97      0.95      0.96       120\n",
            "          37       0.98      1.00      0.99        60\n",
            "          38       0.97      0.99      0.98       690\n",
            "          39       0.96      0.94      0.95        90\n",
            "          40       0.94      0.81      0.87        90\n",
            "          41       1.00      0.68      0.81        60\n",
            "          42       1.00      0.99      0.99        90\n",
            "\n",
            "    accuracy                           0.97     12630\n",
            "   macro avg       0.96      0.94      0.95     12630\n",
            "weighted avg       0.97      0.97      0.96     12630\n",
            "\n"
          ],
          "name": "stdout"
        }
      ]
    },
    {
      "cell_type": "code",
      "metadata": {
        "id": "kHKTkLl14yF6"
      },
      "source": [
        "# save model\n",
        "cnn_model.save(\"./road_sign_model_31_12_7.h5\")"
      ],
      "execution_count": 166,
      "outputs": []
    },
    {
      "cell_type": "code",
      "metadata": {
        "id": "ax-v3enB4yF7"
      },
      "source": [
        ""
      ],
      "execution_count": 166,
      "outputs": []
    },
    {
      "cell_type": "code",
      "metadata": {
        "colab": {
          "base_uri": "https://localhost:8080/",
          "height": 17
        },
        "id": "zTS3ICPi4yF7",
        "outputId": "8807ddad-c62f-4ed1-ef27-8a97f905ec4d"
      },
      "source": [
        "%%javascript\n",
        "<!-- Save the notebook -->\n",
        "IPython.notebook.save_checkpoint();"
      ],
      "execution_count": 167,
      "outputs": [
        {
          "output_type": "display_data",
          "data": {
            "application/javascript": [
              "<!-- Save the notebook -->\n",
              "IPython.notebook.save_checkpoint();"
            ],
            "text/plain": [
              "<IPython.core.display.Javascript object>"
            ]
          },
          "metadata": {
            "tags": []
          }
        }
      ]
    },
    {
      "cell_type": "code",
      "metadata": {
        "id": "FauIw0N84yF8"
      },
      "source": [
        ""
      ],
      "execution_count": 167,
      "outputs": []
    }
  ]
}