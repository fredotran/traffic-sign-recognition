{
 "cells": [
  {
   "cell_type": "markdown",
   "metadata": {
    "id": "Y9ix-_ZL-Iaf"
   },
   "source": [
    "## Test the pre-trained imported model Road signs\n"
   ]
  },
  {
   "cell_type": "code",
   "execution_count": null,
   "metadata": {
    "id": "Zs-HiPUbLtQc"
   },
   "outputs": [],
   "source": [
    "# useful libraries\n",
    "import pickle\n",
    "import numpy as np\n",
    "import matplotlib.pyplot as plt\n",
    "import pandas as pd\n",
    "from utils import *\n",
    "\n",
    "import tensorflow as tf\n",
    "from tensorflow.keras import models, layers\n",
    "from tensorflow.keras.utils import to_categorical\n",
    "\n",
    "print('Tensorflow version :', tf.__version__)\n",
    "print(\"Num GPUs Available: \", len(tf.config.experimental.list_physical_devices('GPU')))\n",
    "\n",
    "%matplotlib inline"
   ]
  },
  {
   "cell_type": "markdown",
   "metadata": {
    "id": "o50qg4J4AF4a"
   },
   "source": [
    "### Preprocess the test set"
   ]
  },
  {
   "cell_type": "code",
   "execution_count": null,
   "metadata": {
    "id": "jbVs6uiS-STK"
   },
   "outputs": [],
   "source": [
    "with open(\"./traffic-signs-data/test.p\", mode='rb') as testing_data:\n",
    "    test = pickle.load(testing_data)\n",
    "\n",
    "# categorize features and labels\n",
    "x_test, y_test = test['features'], test['labels']\n",
    "\n",
    "# convert to grayscale and normalization of the test data\n",
    "x_test_gray  = to_normalize(x_test)\n",
    "\n",
    "# check the shape of the test set\n",
    "x_test_gray.shape"
   ]
  },
  {
   "cell_type": "markdown",
   "metadata": {
    "id": "w8j86gjnAI5l"
   },
   "source": [
    "### Load the pre-trained model and get a summary of the architecture"
   ]
  },
  {
   "cell_type": "code",
   "execution_count": null,
   "metadata": {
    "id": "8qOKGN3JAAhM"
   },
   "outputs": [],
   "source": [
    "# load the pre-trained model\n",
    "new_cnn_model = models.load_model('road-sign_model_version_SDC.h5')\n",
    "\n",
    "# show architecture\n",
    "new_cnn_model.summary()"
   ]
  },
  {
   "cell_type": "markdown",
   "metadata": {
    "id": "ZtoZ9bp4AMv9"
   },
   "source": [
    "### Check the model accuracy viability using the test set"
   ]
  },
  {
   "cell_type": "code",
   "execution_count": null,
   "metadata": {
    "id": "ESwI_4POAMkR"
   },
   "outputs": [],
   "source": [
    "# check the accuracy of the loaded model\n",
    "from sklearn.utils import shuffle\n",
    "x_test_gray, y_test = shuffle(x_test_gray, y_test)\n",
    "\n",
    "loss, acc = new_cnn_model.evaluate(x_test_gray, y_test, verbose=2)\n",
    "print('Restored model, accuracy: {:5.2f}%'.format(100 * acc))"
   ]
  },
  {
   "cell_type": "markdown",
   "metadata": {
    "id": "FHOuVSoPmlJW"
   },
   "source": [
    "## Evaluate the pre-trained model on test set and internet data\n",
    "\n",
    "In this section we'll test our model performance on internet data and test sets."
   ]
  },
  {
   "cell_type": "markdown",
   "metadata": {
    "id": "CKkBL9n8_ncC"
   },
   "source": [
    "### Evaluating the model on the test set"
   ]
  },
  {
   "cell_type": "code",
   "execution_count": null,
   "metadata": {
    "id": "mXJmXiXAJiBe"
   },
   "outputs": [],
   "source": [
    "#Printing the classification report\n",
    "from sklearn.metrics import classification_report\n",
    "predictions = np.argmax(new_cnn_model.predict(x_test_gray), axis=-1)\n",
    "print(classification_report(y_test,predictions))"
   ]
  },
  {
   "cell_type": "code",
   "execution_count": null,
   "metadata": {
    "id": "A6S8eEeCY_Tx"
   },
   "outputs": [],
   "source": [
    "# show predictions on test set\n",
    "img_batch = 90\n",
    "for i in range(0,12):\n",
    "    plt.subplot(4,3,i+1)\n",
    "    plt.imshow(x_test_gray[i+img_batch].squeeze(), cmap='gray', interpolation='none')\n",
    "    plt.title(\"Predicted {}, Class {}\".format(predictions[i+img_batch], y_test[i+img_batch]))\n",
    "    plt.tight_layout()"
   ]
  },
  {
   "cell_type": "markdown",
   "metadata": {
    "id": "c6DlyqjWXA_L"
   },
   "source": [
    "### Evaluating the model on real world data\n",
    "\n",
    "We'll test our model with some real world/internet **data**"
   ]
  },
  {
   "cell_type": "code",
   "execution_count": null,
   "metadata": {
    "id": "oS5Vg5PhH_lu"
   },
   "outputs": [],
   "source": [
    "from PIL import Image\n",
    "from importlib import reload\n",
    "import utils; reload(utils)\n",
    "from utils import *\n",
    "\n",
    "# definition of the internet test directory\n",
    "new_imgs_dir = \"./german_road_signs/\"\n",
    "\n",
    "# get all the images in the folder and apply the preprocessing to the internet images\n",
    "new_imgs = get_imgs_from_folder(new_imgs_dir)\n",
    "\n",
    "# convert the images to grayscale and check the grayscale images shape\n",
    "new_imgs_grayscale = np.asarray(list(map(lambda img: to_grayscale(img), new_imgs)))\n",
    "new_imgs_grayscale.shape"
   ]
  },
  {
   "cell_type": "markdown",
   "metadata": {
    "id": "-0xuCK1k_LGI"
   },
   "source": [
    "#### Create new labels corresponding to our imported images"
   ]
  },
  {
   "cell_type": "code",
   "execution_count": null,
   "metadata": {
    "id": "5aqlvxN_TmNz",
    "scrolled": true
   },
   "outputs": [],
   "source": [
    "# Let's also create the labels for our testing images\n",
    "new_img_lbs = np.array([1,2,35, 29, 32, 18, 9, 9, 27, 12, 12, 25, 11, 14, 14, 14, 26, 8, 15, 12, 16])\n",
    "\n",
    "# check the grayscale images after converting RGB to grayscale\n",
    "show_imgs(new_imgs_grayscale, new_img_lbs, \"New Traffic Sign Images (Grayscale)\", cols=len(new_imgs_grayscale), \n",
    "                fig_size=(15,15), show_ticks=False)"
   ]
  },
  {
   "cell_type": "code",
   "execution_count": null,
   "metadata": {
    "id": "XJopjPGiU-9S"
   },
   "outputs": [],
   "source": [
    "# Convert to a format for Tensorflow inputs\n",
    "new_imgs_grayscale = np.reshape(new_imgs_grayscale, (new_imgs_grayscale.shape[0], 32, 32, 1))\n",
    "\n",
    "# check new_imgs_grayscale shape\n",
    "new_imgs_grayscale.shape"
   ]
  },
  {
   "cell_type": "code",
   "execution_count": null,
   "metadata": {
    "id": "XJ786FrTT4dq"
   },
   "outputs": [],
   "source": [
    "# check the predictions\n",
    "predictions = np.argmax(new_cnn_model.predict(new_imgs_grayscale), axis=-1)\n",
    "predictions"
   ]
  },
  {
   "cell_type": "markdown",
   "metadata": {
    "id": "FrACX6Vf-OIz"
   },
   "source": [
    "#### Show some predictions "
   ]
  },
  {
   "cell_type": "code",
   "execution_count": null,
   "metadata": {
    "id": "nX1VPQcK9G0b"
   },
   "outputs": [],
   "source": [
    "# by defaults\n",
    "number_img = len(new_imgs)\n",
    "start_number_img = 0\n",
    "end_number_img = len(new_imgs)/2\n",
    "\n",
    "# show the first seventh predictions\n",
    "for i in range(start_number_img,round(end_number_img)):\n",
    "  plt.subplot(4,3,i+1)\n",
    "  plt.imshow(new_imgs_grayscale[i].squeeze(), cmap='gray', interpolation='none')\n",
    "  plt.title(\"Predicted : {}, \\n Class : {}\".format(predictions[i], new_img_lbs[i]))\n",
    "  plt.tight_layout()"
   ]
  },
  {
   "cell_type": "code",
   "execution_count": null,
   "metadata": {
    "id": "K98AJ6kKsqma"
   },
   "outputs": [],
   "source": [
    "# check the prediction accuracy by summing all the right predictions and divided by the total number of predictions\n",
    "prediction_accuracy = (np.sum(new_img_lbs == predictions) / len(predictions)) * 100\n",
    "print(\"Predictional accuracy on new images: {:5.2f}%\".format(prediction_accuracy))"
   ]
  },
  {
   "cell_type": "code",
   "execution_count": null,
   "metadata": {
    "id": "xhtf2nxIO3Km"
   },
   "outputs": [],
   "source": []
  },
  {
   "cell_type": "code",
   "execution_count": null,
   "metadata": {},
   "outputs": [],
   "source": []
  }
 ],
 "metadata": {
  "accelerator": "GPU",
  "colab": {
   "collapsed_sections": [
    "o50qg4J4AF4a"
   ],
   "name": "Pre-trained_model_Road_Signs.ipynb",
   "private_outputs": true,
   "provenance": []
  },
  "kernelspec": {
   "display_name": "Python 3",
   "language": "python",
   "name": "python3"
  },
  "language_info": {
   "codemirror_mode": {
    "name": "ipython",
    "version": 3
   },
   "file_extension": ".py",
   "mimetype": "text/x-python",
   "name": "python",
   "nbconvert_exporter": "python",
   "pygments_lexer": "ipython3",
   "version": "3.8.5"
  }
 },
 "nbformat": 4,
 "nbformat_minor": 1
}
